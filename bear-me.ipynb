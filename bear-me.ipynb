{
 "cells": [
  {
   "cell_type": "markdown",
   "id": "bc2ad1b4",
   "metadata": {},
   "source": [
    "# Notebook to Script filename\n",
    "Below `#|default app` is the syntax used export the cells to a python script"
   ]
  },
  {
   "cell_type": "code",
   "execution_count": 33,
   "id": "4193770f-6d30-4ada-a8e4-dcbaf6641e85",
   "metadata": {},
   "outputs": [],
   "source": [
    "#|default_exp app"
   ]
  },
  {
   "cell_type": "code",
   "execution_count": 34,
   "id": "c4c42092-8cff-46c7-9ef3-17658997795c",
   "metadata": {},
   "outputs": [],
   "source": [
    "#|export\n",
    "import fastai\n",
    "\n",
    "def testing():\n",
    "    return 'googoogaga'"
   ]
  },
  {
   "cell_type": "code",
   "execution_count": 35,
   "id": "ef456fdd",
   "metadata": {},
   "outputs": [],
   "source": [
    "import nbdev\n",
    "nbdev.export.nb_export('bear-me.ipynb', '.')"
   ]
  },
  {
   "cell_type": "code",
   "execution_count": null,
   "id": "e9e8cd75",
   "metadata": {},
   "outputs": [],
   "source": []
  }
 ],
 "metadata": {
  "kernelspec": {
   "display_name": "fastenv2",
   "language": "python",
   "name": "python3"
  },
  "language_info": {
   "codemirror_mode": {
    "name": "ipython",
    "version": 3
   },
   "file_extension": ".py",
   "mimetype": "text/x-python",
   "name": "python",
   "nbconvert_exporter": "python",
   "pygments_lexer": "ipython3",
   "version": "3.10.18"
  }
 },
 "nbformat": 4,
 "nbformat_minor": 5
}
