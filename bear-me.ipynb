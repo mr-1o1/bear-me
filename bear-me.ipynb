{
 "cells": [
  {
   "cell_type": "markdown",
   "id": "2c43e4ca",
   "metadata": {},
   "source": [
    "# Bear Classification Notebook\n",
    "Following uses `fastai` library which is built on top of `pytorch` to build ML models.\n",
    "It uses transfer learning and fine-tunes the `resnet18` model to make a classifier model.\n",
    "\n",
    "It also uses `nbdev` to automatically creat Python script from this notebook."
   ]
  },
  {
   "cell_type": "code",
   "execution_count": 1,
   "id": "9fb83887",
   "metadata": {},
   "outputs": [],
   "source": [
    "#|default_exp app"
   ]
  },
  {
   "cell_type": "markdown",
   "id": "3486fad2",
   "metadata": {},
   "source": [
    "The syntax `#|export` and similars, are for nbdev. By the end of the notebook, these tags help create a Python script with just a few commands."
   ]
  },
  {
   "cell_type": "code",
   "execution_count": 5,
   "id": "7fe824e7-3d0a-4244-bf3e-63f56514c628",
   "metadata": {},
   "outputs": [],
   "source": [
    "#|export\n",
    "from fastbook import *\n",
    "from ddgs import DDGS as dd"
   ]
  },
  {
   "cell_type": "markdown",
   "id": "d8ff4f2b",
   "metadata": {},
   "source": [
    "# `search_images_online`\n",
    "This functions gets the urls of the images agains the provided search term. The urls are fetched in a while loop until either it reaches the minimum number of search results or the number of iterations run out."
   ]
  },
  {
   "cell_type": "code",
   "execution_count": 6,
   "id": "b10bc575-51a3-434c-bd67-6792bdfd4d37",
   "metadata": {},
   "outputs": [],
   "source": [
    "#|export\n",
    "def search_images_online(search_term, min_results=150):\n",
    "    iteration = 0\n",
    "    image_urls = []\n",
    "    while len(image_urls) < min_results:\n",
    "        print(f\"Downloding image data for search term: {search_term}\")\n",
    "        image_data = dd().images(query=search_term, num_results=200, page=iteration+1)\n",
    "        print(f\"Iteration: {iteration+1} | Length of fetched data: {len(image_data)}\")\n",
    "        iteration += 1\n",
    "        if len(image_data) > 0:\n",
    "            image_urls += [img_data.get('image') for img_data in image_data]\n",
    "        if iteration >= 4:\n",
    "            break\n",
    "    return image_urls"
   ]
  },
  {
   "cell_type": "code",
   "execution_count": 8,
   "id": "5ffe6988",
   "metadata": {},
   "outputs": [
    {
     "name": "stdout",
     "output_type": "stream",
     "text": [
      "Downloding image data for search term: grizzly bear\n",
      "Iteration: 1 | Length of fetched data: 88\n",
      "Downloding image data for search term: grizzly bear\n",
      "Iteration: 2 | Length of fetched data: 96\n"
     ]
    },
    {
     "data": {
      "text/plain": [
       "184"
      ]
     },
     "execution_count": 8,
     "metadata": {},
     "output_type": "execute_result"
    }
   ],
   "source": [
    "# testing the search image function\n",
    "img_urls = search_images_online('grizzly bear')\n",
    "len(img_urls)"
   ]
  },
  {
   "cell_type": "code",
   "execution_count": 9,
   "id": "fb38825e",
   "metadata": {},
   "outputs": [
    {
     "name": "stdout",
     "output_type": "stream",
     "text": [
      "Downloding image data for search term: grizzly bear\n",
      "Iteration: 1 | Length of fetched data: 80\n",
      "Downloding image data for search term: grizzly bear\n",
      "Iteration: 2 | Length of fetched data: 85\n",
      "Downloding image data for search term: black bear\n",
      "Iteration: 1 | Length of fetched data: 84\n",
      "Downloding image data for search term: black bear\n",
      "Iteration: 2 | Length of fetched data: 90\n",
      "Downloding image data for search term: teddy bear\n",
      "Iteration: 1 | Length of fetched data: 95\n",
      "Downloding image data for search term: teddy bear\n",
      "Iteration: 2 | Length of fetched data: 96\n"
     ]
    }
   ],
   "source": [
    "# Three categories of bear data to download\n",
    "bear_types = 'grizzly','black','teddy'\n",
    "# Root path\n",
    "path = Path('bears')\n",
    "\n",
    "if not path.exists():\n",
    "    path.mkdir()\n",
    "    for o in bear_types:\n",
    "        dest = (path/o)\n",
    "        dest.mkdir(exist_ok=True)\n",
    "        # Fetch urls of a specific bear category\n",
    "        results = search_images_online(f'{o} bear')\n",
    "        # fastbook function to download images provided urls and save data at 'dest' path\n",
    "        download_images(dest, urls=results)"
   ]
  },
  {
   "cell_type": "code",
   "execution_count": null,
   "id": "4da38f01",
   "metadata": {},
   "outputs": [],
   "source": []
  }
 ],
 "metadata": {
  "kernelspec": {
   "display_name": "fastenv2",
   "language": "python",
   "name": "python3"
  },
  "language_info": {
   "codemirror_mode": {
    "name": "ipython",
    "version": 3
   },
   "file_extension": ".py",
   "mimetype": "text/x-python",
   "name": "python",
   "nbconvert_exporter": "python",
   "pygments_lexer": "ipython3",
   "version": "3.10.18"
  }
 },
 "nbformat": 4,
 "nbformat_minor": 5
}
